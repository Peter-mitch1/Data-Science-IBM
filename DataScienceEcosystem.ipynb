{
 "cells": [
  {
   "cell_type": "markdown",
   "id": "fab5d1c4-5e20-4339-bd77-3a3973a03237",
   "metadata": {
    "tags": []
   },
   "source": [
    "# Data Science Tools and Ecosystem"
   ]
  },
  {
   "cell_type": "markdown",
   "id": "980d6992-1d0a-4239-9b2a-0aab8e39b535",
   "metadata": {},
   "source": [
    "### In this notebook, Data Science Tools and Ecosystems are summarized."
   ]
  },
  {
   "cell_type": "markdown",
   "id": "a986f863-aa16-43a1-97c4-15e9ee21aab3",
   "metadata": {},
   "source": [
    "#### Objectives:\n",
    "- List popular languages for Data Science\n",
    "- List common libraries used for Data Science\n",
    "- List three Data Science Tools\n",
    "- Evaluating arithmetic expression in Python with examples"
   ]
  },
  {
   "cell_type": "markdown",
   "id": "509cf112-3000-40db-be61-6e999f19afae",
   "metadata": {},
   "source": [
    "##### _Some of the popular languages that Data Scientists use are:_"
   ]
  },
  {
   "cell_type": "markdown",
   "id": "445e8a52-e226-4fbc-bee4-84903be6e058",
   "metadata": {
    "tags": []
   },
   "source": [
    "1. _Python_\n",
    "2. _R_\n",
    "3. _SQL_\n",
    "4. _Scala_\n",
    "5. _Java_\n",
    "6. _Julia_"
   ]
  },
  {
   "cell_type": "markdown",
   "id": "b9796698-f413-4987-b0b4-b9a85c4d84a9",
   "metadata": {
    "tags": []
   },
   "source": [
    "##### _Some of the commonly used libraries used by Data Scientists include:_"
   ]
  },
  {
   "cell_type": "markdown",
   "id": "b976c32a-b76a-4698-8261-7090848db9b9",
   "metadata": {},
   "source": [
    "1. _Pandas_\n",
    "2. _NumPy_\n",
    "3. _Seaborn_\n",
    "4. _Scikit-learn_\n",
    "5. _Keras_\n",
    "6. _TensorFlow_\n",
    "7. _Pytorch_\n",
    "8. _Apache Spark_\n",
    "9. _Scala_\n",
    "10. _ggplot2_"
   ]
  },
  {
   "cell_type": "markdown",
   "id": "9372b550-cae1-48b7-b819-aeebe73050d9",
   "metadata": {
    "tags": []
   },
   "source": [
    "|Data Science Tools|\n",
    "|------------------|\n",
    "|Jupyter Notebooks|\n",
    "|Git|\n",
    "|R Studio's|\n"
   ]
  },
  {
   "cell_type": "markdown",
   "id": "85441dc7-770f-4e8c-bb25-8aca8a42a94f",
   "metadata": {},
   "source": [
    "### Below are a few examples of evaluating arithmetic expression in Python"
   ]
  },
  {
   "cell_type": "code",
   "execution_count": 13,
   "id": "f45d6e42-d49c-4866-9d02-8c4ad58f59ca",
   "metadata": {
    "tags": []
   },
   "outputs": [
    {
     "data": {
      "text/plain": [
       "17"
      ]
     },
     "execution_count": 13,
     "metadata": {},
     "output_type": "execute_result"
    }
   ],
   "source": [
    "# This is a simple arithmetic expression to multiply then add integers\n",
    "(3*4)+5"
   ]
  },
  {
   "cell_type": "code",
   "execution_count": 15,
   "id": "d9b7e91e-2c3e-4128-a010-a8708603da44",
   "metadata": {
    "tags": []
   },
   "outputs": [
    {
     "data": {
      "text/plain": [
       "3.3333333333333335"
      ]
     },
     "execution_count": 15,
     "metadata": {},
     "output_type": "execute_result"
    }
   ],
   "source": [
    "# This will convert 200 minutes to hours by dividing 60\n",
    "200/60"
   ]
  },
  {
   "cell_type": "markdown",
   "id": "50db4a25-0713-486e-81c6-7c37f81d43e2",
   "metadata": {},
   "source": [
    "## Author\n",
    "Peter Mitchell"
   ]
  },
  {
   "cell_type": "code",
   "execution_count": null,
   "id": "e4c5d299-fa39-45d9-9390-90ec3641a51b",
   "metadata": {},
   "outputs": [],
   "source": []
  }
 ],
 "metadata": {
  "kernelspec": {
   "display_name": "Python",
   "language": "python",
   "name": "conda-env-python-py"
  },
  "language_info": {
   "codemirror_mode": {
    "name": "ipython",
    "version": 3
   },
   "file_extension": ".py",
   "mimetype": "text/x-python",
   "name": "python",
   "nbconvert_exporter": "python",
   "pygments_lexer": "ipython3",
   "version": "3.7.12"
  }
 },
 "nbformat": 4,
 "nbformat_minor": 5
}
